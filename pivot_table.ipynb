{
 "cells": [
  {
   "cell_type": "markdown",
   "id": "c1c7aa18",
   "metadata": {},
   "source": [
    "# Pivot Tables\n",
    "\n",
    "  Author: Brilliant Chikanya\n",
    "  \n",
    "### In this notebook, we look at pivot tables and how they can be used to summarize data "
   ]
  },
  {
   "cell_type": "markdown",
   "id": "71203098",
   "metadata": {},
   "source": [
    "# Pivot Tables\n",
    "\n",
    "- A PivotTable is essentially a summary report that is generated from a dataset. \n",
    "\n",
    "- It can help be used to transform raw data into a meaningful representation of the data."
   ]
  },
  {
   "cell_type": "code",
   "execution_count": null,
   "id": "1942dcd4",
   "metadata": {},
   "outputs": [],
   "source": []
  },
  {
   "cell_type": "code",
   "execution_count": null,
   "id": "626f16a7",
   "metadata": {},
   "outputs": [],
   "source": []
  },
  {
   "cell_type": "code",
   "execution_count": 1,
   "id": "03516d01",
   "metadata": {},
   "outputs": [],
   "source": [
    "import numpy as np\n",
    "import pandas as pd\n",
    "import matplotlib\n",
    "%matplotlib inline\n",
    "import matplotlib.pyplot as plt\n",
    "import seaborn as sns"
   ]
  },
  {
   "cell_type": "markdown",
   "id": "3e2d2da5",
   "metadata": {},
   "source": [
    "### For our purposes, we will make use of dataset which consists of a month’s worth of new account information for a three-branch bank.\n",
    "\n",
    "Our dataset contains 712 rows, and each row represents a new account opened at the bank.\n",
    "The table has the following columns:\n",
    "- The date the account was opened\n",
    "- The day of the week the account was opened\n",
    "- The opening deposit amount\n",
    "- The account type (CD, checking, savings, or IRA)\n",
    "- Who opened the account (a teller or a new-account representative)\n",
    "- The branch at which it was opened (Central, Westside, or North County)\n",
    "- The type of customer (an existing customer or a new customer)"
   ]
  },
  {
   "cell_type": "code",
   "execution_count": 4,
   "id": "f87ae560",
   "metadata": {},
   "outputs": [
    {
     "data": {
      "text/html": [
       "<div>\n",
       "<style scoped>\n",
       "    .dataframe tbody tr th:only-of-type {\n",
       "        vertical-align: middle;\n",
       "    }\n",
       "\n",
       "    .dataframe tbody tr th {\n",
       "        vertical-align: top;\n",
       "    }\n",
       "\n",
       "    .dataframe thead th {\n",
       "        text-align: right;\n",
       "    }\n",
       "</style>\n",
       "<table border=\"1\" class=\"dataframe\">\n",
       "  <thead>\n",
       "    <tr style=\"text-align: right;\">\n",
       "      <th></th>\n",
       "      <th>Weekday</th>\n",
       "      <th>Amount</th>\n",
       "      <th>AcctType</th>\n",
       "      <th>OpenedBy</th>\n",
       "      <th>Branch</th>\n",
       "      <th>Customer</th>\n",
       "    </tr>\n",
       "    <tr>\n",
       "      <th>Date</th>\n",
       "      <th></th>\n",
       "      <th></th>\n",
       "      <th></th>\n",
       "      <th></th>\n",
       "      <th></th>\n",
       "      <th></th>\n",
       "    </tr>\n",
       "  </thead>\n",
       "  <tbody>\n",
       "    <tr>\n",
       "      <th>2019-04-01</th>\n",
       "      <td>Friday</td>\n",
       "      <td>5000</td>\n",
       "      <td>IRA</td>\n",
       "      <td>New Accts</td>\n",
       "      <td>Central</td>\n",
       "      <td>Existing</td>\n",
       "    </tr>\n",
       "    <tr>\n",
       "      <th>2019-04-01</th>\n",
       "      <td>Friday</td>\n",
       "      <td>10000</td>\n",
       "      <td>CD</td>\n",
       "      <td>Teller</td>\n",
       "      <td>North County</td>\n",
       "      <td>Existing</td>\n",
       "    </tr>\n",
       "    <tr>\n",
       "      <th>2019-04-01</th>\n",
       "      <td>Friday</td>\n",
       "      <td>500</td>\n",
       "      <td>Checking</td>\n",
       "      <td>New Accts</td>\n",
       "      <td>Central</td>\n",
       "      <td>Existing</td>\n",
       "    </tr>\n",
       "    <tr>\n",
       "      <th>2019-04-01</th>\n",
       "      <td>Friday</td>\n",
       "      <td>11779</td>\n",
       "      <td>CD</td>\n",
       "      <td>Teller</td>\n",
       "      <td>Central</td>\n",
       "      <td>New</td>\n",
       "    </tr>\n",
       "    <tr>\n",
       "      <th>2019-04-01</th>\n",
       "      <td>Friday</td>\n",
       "      <td>4623</td>\n",
       "      <td>Savings</td>\n",
       "      <td>New Accts</td>\n",
       "      <td>North County</td>\n",
       "      <td>Existing</td>\n",
       "    </tr>\n",
       "  </tbody>\n",
       "</table>\n",
       "</div>"
      ],
      "text/plain": [
       "           Weekday  Amount  AcctType   OpenedBy        Branch  Customer\n",
       "Date                                                                   \n",
       "2019-04-01  Friday    5000       IRA  New Accts       Central  Existing\n",
       "2019-04-01  Friday   10000        CD     Teller  North County  Existing\n",
       "2019-04-01  Friday     500  Checking  New Accts       Central  Existing\n",
       "2019-04-01  Friday   11779        CD     Teller       Central       New\n",
       "2019-04-01  Friday    4623   Savings  New Accts  North County  Existing"
      ]
     },
     "execution_count": 4,
     "metadata": {},
     "output_type": "execute_result"
    }
   ],
   "source": [
    "# Lets start by loading the dataset into pandas\n",
    "\n",
    "df = pd.read_excel('bank_accounts.xlsx', sheet_name='data')\n",
    "\n",
    "# Next, set the Date column as the index\n",
    "df.set_index('Date', inplace=True)\n",
    "df.head()"
   ]
  },
  {
   "cell_type": "markdown",
   "id": "93506ccb",
   "metadata": {},
   "source": [
    "#### The bank accounts dataset contains a lot of information. In its current form, however, it does not reveal much. \n",
    "#### To make the data more useful, we are going to summarize it. \n",
    "#### Summarizing data is the process of arranging the data differently in order to answer questions about it. \n",
    "#### The following are a some of the questions that we may answer by creating pivot tables.\n",
    "\n",
    "- How many accounts were opened at each branch, broken down by account type?\n",
    "- What is the daily total new deposit amount for each branch?\n",
    "- Which day of the week accounts for the most deposits?\n",
    "- How much money was used to open accounts?\n",
    "- What types of accounts do tellers open most often?\n",
    "- In which branch do tellers open the most checking accounts for new customers?"
   ]
  },
  {
   "cell_type": "markdown",
   "id": "cf6c3a4a",
   "metadata": {},
   "source": [
    "### 1. How many accounts were opened at each branch, broken down by account type?"
   ]
  },
  {
   "cell_type": "code",
   "execution_count": 10,
   "id": "3a149e27",
   "metadata": {},
   "outputs": [
    {
     "data": {
      "text/html": [
       "<div>\n",
       "<style scoped>\n",
       "    .dataframe tbody tr th:only-of-type {\n",
       "        vertical-align: middle;\n",
       "    }\n",
       "\n",
       "    .dataframe tbody tr th {\n",
       "        vertical-align: top;\n",
       "    }\n",
       "\n",
       "    .dataframe thead th {\n",
       "        text-align: right;\n",
       "    }\n",
       "</style>\n",
       "<table border=\"1\" class=\"dataframe\">\n",
       "  <thead>\n",
       "    <tr style=\"text-align: right;\">\n",
       "      <th>AcctType</th>\n",
       "      <th>CD</th>\n",
       "      <th>Checking</th>\n",
       "      <th>IRA</th>\n",
       "      <th>Savings</th>\n",
       "    </tr>\n",
       "    <tr>\n",
       "      <th>Branch</th>\n",
       "      <th></th>\n",
       "      <th></th>\n",
       "      <th></th>\n",
       "      <th></th>\n",
       "    </tr>\n",
       "  </thead>\n",
       "  <tbody>\n",
       "    <tr>\n",
       "      <th>Central</th>\n",
       "      <td>1361885</td>\n",
       "      <td>802403</td>\n",
       "      <td>68380</td>\n",
       "      <td>885757</td>\n",
       "    </tr>\n",
       "    <tr>\n",
       "      <th>North County</th>\n",
       "      <td>1209910</td>\n",
       "      <td>392516</td>\n",
       "      <td>134374</td>\n",
       "      <td>467414</td>\n",
       "    </tr>\n",
       "    <tr>\n",
       "      <th>Westside</th>\n",
       "      <td>650237</td>\n",
       "      <td>292995</td>\n",
       "      <td>10000</td>\n",
       "      <td>336088</td>\n",
       "    </tr>\n",
       "  </tbody>\n",
       "</table>\n",
       "</div>"
      ],
      "text/plain": [
       "AcctType           CD  Checking     IRA  Savings\n",
       "Branch                                          \n",
       "Central       1361885    802403   68380   885757\n",
       "North County  1209910    392516  134374   467414\n",
       "Westside       650237    292995   10000   336088"
      ]
     },
     "execution_count": 10,
     "metadata": {},
     "output_type": "execute_result"
    }
   ],
   "source": [
    "# Create a pivot table showing the amount of new deposits, broken down by branch and account type.\n",
    "\n",
    "df.pivot_table(index='Branch', columns='AcctType', values='Amount', aggfunc='sum')"
   ]
  },
  {
   "cell_type": "markdown",
   "id": "4b690825",
   "metadata": {},
   "source": [
    "#### We can change the orientation of the table, so that branches appear as columns and account type appears as rows"
   ]
  },
  {
   "cell_type": "code",
   "execution_count": 13,
   "id": "560705f9",
   "metadata": {},
   "outputs": [
    {
     "data": {
      "text/html": [
       "<div>\n",
       "<style scoped>\n",
       "    .dataframe tbody tr th:only-of-type {\n",
       "        vertical-align: middle;\n",
       "    }\n",
       "\n",
       "    .dataframe tbody tr th {\n",
       "        vertical-align: top;\n",
       "    }\n",
       "\n",
       "    .dataframe thead th {\n",
       "        text-align: right;\n",
       "    }\n",
       "</style>\n",
       "<table border=\"1\" class=\"dataframe\">\n",
       "  <thead>\n",
       "    <tr style=\"text-align: right;\">\n",
       "      <th>Branch</th>\n",
       "      <th>Central</th>\n",
       "      <th>North County</th>\n",
       "      <th>Westside</th>\n",
       "    </tr>\n",
       "    <tr>\n",
       "      <th>AcctType</th>\n",
       "      <th></th>\n",
       "      <th></th>\n",
       "      <th></th>\n",
       "    </tr>\n",
       "  </thead>\n",
       "  <tbody>\n",
       "    <tr>\n",
       "      <th>CD</th>\n",
       "      <td>1361885</td>\n",
       "      <td>1209910</td>\n",
       "      <td>650237</td>\n",
       "    </tr>\n",
       "    <tr>\n",
       "      <th>Checking</th>\n",
       "      <td>802403</td>\n",
       "      <td>392516</td>\n",
       "      <td>292995</td>\n",
       "    </tr>\n",
       "    <tr>\n",
       "      <th>IRA</th>\n",
       "      <td>68380</td>\n",
       "      <td>134374</td>\n",
       "      <td>10000</td>\n",
       "    </tr>\n",
       "    <tr>\n",
       "      <th>Savings</th>\n",
       "      <td>885757</td>\n",
       "      <td>467414</td>\n",
       "      <td>336088</td>\n",
       "    </tr>\n",
       "  </tbody>\n",
       "</table>\n",
       "</div>"
      ],
      "text/plain": [
       "Branch    Central  North County  Westside\n",
       "AcctType                                 \n",
       "CD        1361885       1209910    650237\n",
       "Checking   802403        392516    292995\n",
       "IRA         68380        134374     10000\n",
       "Savings    885757        467414    336088"
      ]
     },
     "execution_count": 13,
     "metadata": {},
     "output_type": "execute_result"
    }
   ],
   "source": [
    "# The same information can be presented in another way:\n",
    "\n",
    "df.pivot_table(index='AcctType', columns='Branch', values='Amount', aggfunc=np.sum)"
   ]
  },
  {
   "cell_type": "markdown",
   "id": "f588bc63",
   "metadata": {},
   "source": [
    "### 2. What is the daily total new deposit amount for each branch? "
   ]
  },
  {
   "cell_type": "code",
   "execution_count": 19,
   "id": "e35adb3f",
   "metadata": {},
   "outputs": [
    {
     "name": "stdout",
     "output_type": "stream",
     "text": [
      "Branch      Central  North County  Westside\n",
      "Date                                       \n",
      "2019-04-01   179011        139196     51488\n",
      "2019-04-02    72256         27805      7188\n",
      "2019-04-04   146290        164305    122828\n",
      "2019-04-05   101480         50294     97415\n",
      "2019-04-06   188018         91724     52738\n",
      "2019-04-07   271227        196188     53525\n",
      "2019-04-08   105087         77674     92013\n",
      "2019-04-11   172920         43953     89258\n",
      "2019-04-12    70300         44621     39797\n",
      "2019-04-13   143921        176698     29075\n",
      "2019-04-14   117800        114418     36064\n",
      "2019-04-15   191611         62787     85015\n",
      "2019-04-18    79394         72262     48337\n",
      "2019-04-19   209916        213728     53721\n",
      "2019-04-20   125276        140739     56444\n",
      "2019-04-21    79355         35753      3419\n",
      "2019-04-22   188509        236269     97210\n",
      "2019-04-25   218889        137025     85828\n",
      "2019-04-26   150139         29040     95998\n",
      "2019-04-27    56379         72948     43472\n",
      "2019-04-28    62192         43217     12128\n",
      "2019-04-29   170279         22570     19429\n",
      "2019-04-30    18176         11000     16930\n"
     ]
    }
   ],
   "source": [
    "daily = df.pivot_table(index=df.index, columns='Branch', values='Amount', aggfunc=np.sum)\n",
    "print(daily)"
   ]
  },
  {
   "cell_type": "code",
   "execution_count": null,
   "id": "bee68a6f",
   "metadata": {},
   "outputs": [],
   "source": []
  }
 ],
 "metadata": {
  "kernelspec": {
   "display_name": "Python 3 (ipykernel)",
   "language": "python",
   "name": "python3"
  },
  "language_info": {
   "codemirror_mode": {
    "name": "ipython",
    "version": 3
   },
   "file_extension": ".py",
   "mimetype": "text/x-python",
   "name": "python",
   "nbconvert_exporter": "python",
   "pygments_lexer": "ipython3",
   "version": "3.10.8"
  }
 },
 "nbformat": 4,
 "nbformat_minor": 5
}
